{
 "cells": [
  {
   "cell_type": "code",
   "execution_count": 1,
   "metadata": {},
   "outputs": [],
   "source": [
    "import os\n",
    "import json\n",
    "import copy\n",
    "\n",
    "BASE_DIR = '/home/peter/json_concat'"
   ]
  },
  {
   "cell_type": "code",
   "execution_count": 3,
   "metadata": {},
   "outputs": [],
   "source": [
    "with open(f'{BASE_DIR}/paper/general2paper_ho.json', 'r') as f:\n",
    "        batch1_data = json.loads(f.read())\n",
    "\n",
    "with open(f'{BASE_DIR}/paper/general2paper_JH.json', 'r') as f:\n",
    "        batch2_1_data = json.loads(f.read())\n",
    "\n",
    "with open(f'{BASE_DIR}/paper/new_general2paper.json', 'r') as f:\n",
    "        batch2_2_data = json.loads(f.read())\n",
    "\n",
    "with open(f'{BASE_DIR}/paper/general2paper_MG.json', 'r') as f:\n",
    "        batch2_3_data = json.loads(f.read())\n",
    "\n",
    "with open(f'{BASE_DIR}/paper/batch3_general2paper.json', 'r') as f:\n",
    "        batch3_data = json.loads(f.read())"
   ]
  },
  {
   "cell_type": "code",
   "execution_count": 4,
   "metadata": {},
   "outputs": [],
   "source": [
    "train_data = {}\n",
    "train_data['info'] = copy.deepcopy(batch3_data['info'])\n",
    "train_data['licenses'] = copy.deepcopy(batch3_data['licenses'])\n",
    "train_data['categories'] = copy.deepcopy(batch3_data['categories'])\n",
    "train_data['images'] = []\n",
    "train_data['annotations'] = []"
   ]
  },
  {
   "cell_type": "code",
   "execution_count": 5,
   "metadata": {},
   "outputs": [
    {
     "name": "stdout",
     "output_type": "stream",
     "text": [
      "cur_seg_index: 4310\n",
      "cur_img_index: 948\n",
      "batch2_1 length: 9067\n",
      "batch2_1 length: 772\n",
      "cur_seg_index: 13377\n",
      "cur_img_index: 1720\n",
      "batch2_2 anno_length: 5805\n",
      "batch2_2 img_length: 400\n",
      "cur_seg_index: 19155\n",
      "cur_img_index: 2119\n",
      "batch2_3 anno_length: 4266\n",
      "batch2_3 img_length: 390\n",
      "cur_seg_index: 23421\n",
      "cur_img_index: 2509\n",
      "batch3 anno_length: 3524\n",
      "batch3 img_length: 958\n",
      "cur_seg_index: 26945\n",
      "cur_img_index: 3467\n"
     ]
    }
   ],
   "source": [
    "img_idx = 0\n",
    "anno_idx = 0\n",
    "seg_idx = 0\n",
    "\n",
    "for img_info in batch1_data['images']:\n",
    "    img_info['id'] = img_idx\n",
    "    train_data['images'].append(img_info)\n",
    "    img_idx += 1\n",
    "\n",
    "for anno_info in batch1_data['annotations']:\n",
    "    anno_info['id'] = seg_idx\n",
    "    train_data['annotations'].append(anno_info)\n",
    "    seg_idx += 1\n",
    "\n",
    "cur_seg_id = train_data['annotations'][-1]['id']\n",
    "cur_img_id = train_data['annotations'][-1]['image_id']\n",
    "print(f\"cur_seg_index: {cur_seg_id}\")\n",
    "print(f\"cur_img_index: {cur_img_id}\")\n",
    "\n",
    "print(f\"batch2_1 length: {len(batch2_1_data['annotations'])}\")\n",
    "print(f\"batch2_1 length: {len(batch2_1_data['images'])}\")\n",
    "for img_info in batch2_1_data['images']:\n",
    "    img_info['id'] = img_idx\n",
    "    train_data['images'].append(img_info)\n",
    "    img_idx += 1\n",
    "\n",
    "for anno_info in batch2_1_data['annotations']:\n",
    "    anno_info['id'] = seg_idx \n",
    "    train_data['annotations'].append(anno_info)\n",
    "    seg_idx += 1\n",
    "\n",
    "cur_seg_id = train_data['annotations'][-1]['id']\n",
    "cur_img_id = train_data['annotations'][-1]['image_id']\n",
    "print(f\"cur_seg_index: {cur_seg_id}\")\n",
    "print(f\"cur_img_index: {cur_img_id}\")\n",
    "\n",
    "print(f\"batch2_2 anno_length: {len(batch2_2_data['annotations'])}\")\n",
    "print(f\"batch2_2 img_length: {len(batch2_2_data['images'])}\")\n",
    "for img_info in batch2_2_data['images'][:-1]:\n",
    "    img_info['id'] = img_idx\n",
    "    train_data['images'].append(img_info)\n",
    "    img_idx += 1\n",
    "\n",
    "for anno_info in batch2_2_data['annotations']:\n",
    "    if anno_info['category_id'] != 0 and anno_info['image_id'] != 2120:\n",
    "        anno_info['id'] = seg_idx\n",
    "        train_data['annotations'].append(anno_info)\n",
    "        seg_idx += 1\n",
    "\n",
    "cur_seg_id = train_data['annotations'][-1]['id']\n",
    "cur_img_id = train_data['annotations'][-1]['image_id']\n",
    "print(f\"cur_seg_index: {cur_seg_id}\")\n",
    "print(f\"cur_img_index: {cur_img_id}\")\n",
    "\n",
    "print(f\"batch2_3 anno_length: {len(batch2_3_data['annotations'])}\")\n",
    "print(f\"batch2_3 img_length: {len(batch2_3_data['images'])}\")\n",
    "for img_info in batch2_3_data['images']:\n",
    "    img_info['id'] = img_idx\n",
    "    train_data['images'].append(img_info)\n",
    "    img_idx += 1\n",
    "\n",
    "for anno_info in batch2_3_data['annotations']:\n",
    "    if anno_info['category_id'] != 0:\n",
    "        anno_info['id'] = seg_idx\n",
    "        train_data['annotations'].append(anno_info)\n",
    "        seg_idx += 1\n",
    "\n",
    "cur_seg_id = train_data['annotations'][-1]['id']\n",
    "cur_img_id = train_data['annotations'][-1]['image_id']\n",
    "print(f\"cur_seg_index: {cur_seg_id}\")\n",
    "print(f\"cur_img_index: {cur_img_id}\")\n",
    "\n",
    "print(f\"batch3 anno_length: {len(batch3_data['annotations'])}\")\n",
    "print(f\"batch3 img_length: {len(batch3_data['images'])}\")\n",
    "\n",
    "temp = copy.deepcopy(img_idx)\n",
    "\n",
    "for img_info in batch3_data['images']:\n",
    "    img_info['id'] = img_idx\n",
    "    train_data['images'].append(img_info)\n",
    "    img_idx += 1\n",
    "\n",
    "for anno_info in batch3_data['annotations']:\n",
    "    if anno_info['category_id'] != 0:\n",
    "        anno_info['image_id'] += temp \n",
    "        anno_info['id'] = seg_idx\n",
    "        train_data['annotations'].append(anno_info)\n",
    "        seg_idx += 1\n",
    "\n",
    "cur_seg_id = train_data['annotations'][-1]['id']\n",
    "cur_img_id = train_data['annotations'][-1]['image_id']\n",
    "print(f\"cur_seg_index: {cur_seg_id}\")\n",
    "print(f\"cur_img_index: {cur_img_id}\")"
   ]
  },
  {
   "cell_type": "code",
   "execution_count": 6,
   "metadata": {},
   "outputs": [],
   "source": [
    "with open(os.path.join(BASE_DIR, 'train_paper.json'), 'w') as f:\n",
    "    json.dump(train_data, f, indent=4)"
   ]
  },
  {
   "cell_type": "code",
   "execution_count": 7,
   "metadata": {},
   "outputs": [
    {
     "data": {
      "text/plain": [
       "26946"
      ]
     },
     "execution_count": 7,
     "metadata": {},
     "output_type": "execute_result"
    }
   ],
   "source": [
    "len(train_data['annotations'])"
   ]
  },
  {
   "cell_type": "code",
   "execution_count": null,
   "metadata": {},
   "outputs": [],
   "source": []
  }
 ],
 "metadata": {
  "interpreter": {
   "hash": "ddd11c3f15f673f60b8da35de850d322e46431a88586c888da19b7ac9c15c4fe"
  },
  "kernelspec": {
   "display_name": "Python 3.9.7 ('AI')",
   "language": "python",
   "name": "python3"
  },
  "language_info": {
   "codemirror_mode": {
    "name": "ipython",
    "version": 3
   },
   "file_extension": ".py",
   "mimetype": "text/x-python",
   "name": "python",
   "nbconvert_exporter": "python",
   "pygments_lexer": "ipython3",
   "version": "3.9.7"
  },
  "orig_nbformat": 4
 },
 "nbformat": 4,
 "nbformat_minor": 2
}
